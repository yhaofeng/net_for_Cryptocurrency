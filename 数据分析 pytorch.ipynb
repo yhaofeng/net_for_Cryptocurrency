{
 "cells": [
  {
   "cell_type": "code",
   "execution_count": 1,
   "metadata": {},
   "outputs": [],
   "source": [
    "import numpy as np\n",
    "import torch\n",
    "import torch.nn as nn\n",
    "import torch.nn.functional as F\n",
    "from torch import optim\n",
    "\n",
    "#使用GPU\n",
    "device = torch.device('cuda' if torch.cuda.is_available else 'cpu')"
   ]
  },
  {
   "cell_type": "markdown",
   "metadata": {},
   "source": [
    "# LSTM-CNN并联结构"
   ]
  },
  {
   "cell_type": "code",
   "execution_count": 1,
   "metadata": {},
   "outputs": [
    {
     "data": {
      "text/html": [
       "<img src='1.jpg', width=80%>\n"
      ],
      "text/plain": [
       "<IPython.core.display.HTML object>"
      ]
     },
     "metadata": {},
     "output_type": "display_data"
    }
   ],
   "source": [
    "%%html\n",
    "<img src='1.jpg', width=80%>"
   ]
  },
  {
   "cell_type": "markdown",
   "metadata": {},
   "source": [
    "# LSTM-CNN并联结构\n",
    "![avatar](2.jpg)"
   ]
  },
  {
   "cell_type": "markdown",
   "metadata": {},
   "source": [
    "我们采用的是一维卷积conv1d：\n",
    "class torch.nn.Conv1d(in_channels, out_channels, kernel_size, stride=1, padding=0, dilation=1, groups=1, bias=True)\n",
    "\n",
    "1. in_channels(int) – 输入信号的通道。\n",
    "2. out_channels(int) – 卷积产生的通道。有多少个out_channels，就需要多少个1维卷积\n",
    "3. kernel_size(int or tuple) - 卷积核的尺寸，卷积核的大小为(k,)，第二个维度是由in_channels来决定的，所以实际上卷积大小为kernel_size*in_channels\n",
    "4. stride(int or tuple, optional) - 卷积步长\n",
    "5. padding (int or tuple, optional)- 输入的每一条边补充0的层数\n",
    "6. dilation(int or tuple, `optional``) – 卷积核元素之间的间距\n",
    "7. groups(int, optional) – 从输入通道到输出通道的阻塞连接数\n",
    "8. bias(bool, optional) - 如果bias=True，添加偏置\n",
    "\n",
    "举个例子："
   ]
  },
  {
   "cell_type": "code",
   "execution_count": 10,
   "metadata": {},
   "outputs": [
    {
     "name": "stdout",
     "output_type": "stream",
     "text": [
      "torch.Size([32, 100, 34])\n"
     ]
    }
   ],
   "source": [
    "conv1 = nn.Conv1d(in_channels=256,out_channels=100,kernel_size=2)\n",
    "Input = torch.randn(32,35,256)\n",
    "# batch_size x len x in_channels -> batch_size x in_channels x len\n",
    "Input = Input.permute(0,2,1)\n",
    "out = conv1(Input)# batch_size x out_channels x len\n",
    "print(out.size())"
   ]
  },
  {
   "cell_type": "code",
   "execution_count": 11,
   "metadata": {},
   "outputs": [
    {
     "data": {
      "text/plain": [
       "torch.Size([32, 256, 35])"
      ]
     },
     "execution_count": 11,
     "metadata": {},
     "output_type": "execute_result"
    }
   ],
   "source": [
    "Input.size()"
   ]
  },
  {
   "cell_type": "code",
   "execution_count": 15,
   "metadata": {},
   "outputs": [],
   "source": [
    "layer1 = nn.Sequential(\n",
    "            nn.Conv1d(256, 100, 2), \n",
    "            nn.BatchNorm1d(100),\n",
    "            nn.ReLU(True),\n",
    "        )"
   ]
  },
  {
   "cell_type": "code",
   "execution_count": 18,
   "metadata": {},
   "outputs": [],
   "source": [
    "layer2 = nn.Sequential(\n",
    "            nn.Conv1d(100, 200, 2), \n",
    "            nn.BatchNorm1d(200),\n",
    "            nn.ReLU(True),\n",
    "            nn.MaxPool1d(2),\n",
    "        )"
   ]
  },
  {
   "cell_type": "code",
   "execution_count": 16,
   "metadata": {},
   "outputs": [
    {
     "data": {
      "text/plain": [
       "torch.Size([32, 100, 34])"
      ]
     },
     "execution_count": 16,
     "metadata": {},
     "output_type": "execute_result"
    }
   ],
   "source": [
    "output = layer1(Input)\n",
    "output.size()"
   ]
  },
  {
   "cell_type": "code",
   "execution_count": 19,
   "metadata": {},
   "outputs": [
    {
     "data": {
      "text/plain": [
       "torch.Size([32, 200, 16])"
      ]
     },
     "execution_count": 19,
     "metadata": {},
     "output_type": "execute_result"
    }
   ],
   "source": [
    "output = layer2(output)\n",
    "output.size()#batch_size x out_channels x len"
   ]
  },
  {
   "cell_type": "code",
   "execution_count": 28,
   "metadata": {},
   "outputs": [
    {
     "data": {
      "text/plain": [
       "tensor([[0.0000, 0.3177, 2.1707,  ..., 1.5071, 2.4608, 1.1833],\n",
       "        [0.8323, 1.3476, 0.4405,  ..., 0.0000, 0.6498, 0.9868],\n",
       "        [1.7601, 0.1389, 0.7517,  ..., 0.9630, 0.6334, 1.7470],\n",
       "        ...,\n",
       "        [0.2442, 0.0000, 0.3076,  ..., 0.0000, 1.1275, 0.3061],\n",
       "        [0.2264, 0.7633, 1.0636,  ..., 1.1116, 0.3339, 0.2534],\n",
       "        [0.0000, 2.6330, 0.6691,  ..., 0.0031, 0.7187, 1.0417]],\n",
       "       grad_fn=<SelectBackward>)"
      ]
     },
     "execution_count": 28,
     "metadata": {},
     "output_type": "execute_result"
    }
   ],
   "source": [
    "output[0]"
   ]
  },
  {
   "cell_type": "code",
   "execution_count": 22,
   "metadata": {},
   "outputs": [
    {
     "data": {
      "text/plain": [
       "torch.Size([16, 32, 200])"
      ]
     },
     "execution_count": 22,
     "metadata": {},
     "output_type": "execute_result"
    }
   ],
   "source": [
    "out_reshape = output.reshape([16,32,200])\n",
    "out_reshape.size()"
   ]
  },
  {
   "cell_type": "code",
   "execution_count": 26,
   "metadata": {},
   "outputs": [
    {
     "data": {
      "text/plain": [
       "tensor([[0.0000e+00, 3.1772e-01, 2.1707e+00,  ..., 3.9868e-01, 5.2411e-01,\n",
       "         1.9799e-01],\n",
       "        [0.0000e+00, 0.0000e+00, 1.3518e+00,  ..., 0.0000e+00, 0.0000e+00,\n",
       "         1.4752e-01],\n",
       "        [0.0000e+00, 1.5264e+00, 1.2447e+00,  ..., 4.7978e-01, 7.8654e-01,\n",
       "         0.0000e+00],\n",
       "        ...,\n",
       "        [0.0000e+00, 1.1298e+00, 0.0000e+00,  ..., 0.0000e+00, 7.3621e-01,\n",
       "         1.7101e+00],\n",
       "        [7.8483e-01, 7.6914e-01, 1.0571e+00,  ..., 0.0000e+00, 5.2382e-01,\n",
       "         1.7580e-01],\n",
       "        [3.2530e-04, 7.6892e-01, 2.5264e-01,  ..., 6.8710e-01, 1.8343e+00,\n",
       "         0.0000e+00]], grad_fn=<SelectBackward>)"
      ]
     },
     "execution_count": 26,
     "metadata": {},
     "output_type": "execute_result"
    }
   ],
   "source": [
    "out_reshape[0]"
   ]
  },
  {
   "cell_type": "code",
   "execution_count": 29,
   "metadata": {},
   "outputs": [
    {
     "data": {
      "text/plain": [
       "torch.Size([16, 32, 200])"
      ]
     },
     "execution_count": 29,
     "metadata": {},
     "output_type": "execute_result"
    }
   ],
   "source": [
    "out_re = output.permute(2,0,1)\n",
    "out_re.size()"
   ]
  },
  {
   "cell_type": "code",
   "execution_count": 30,
   "metadata": {},
   "outputs": [
    {
     "data": {
      "text/plain": [
       "tensor([[0.0000, 0.8323, 1.7601,  ..., 0.2442, 0.2264, 0.0000],\n",
       "        [1.0202, 0.8127, 0.0000,  ..., 0.0000, 0.0000, 0.3942],\n",
       "        [1.4420, 0.4491, 0.0000,  ..., 0.4099, 1.3345, 0.0000],\n",
       "        ...,\n",
       "        [0.2269, 0.0000, 0.0000,  ..., 0.0904, 0.3066, 0.5451],\n",
       "        [0.2025, 0.9692, 0.9243,  ..., 1.2320, 0.3726, 0.0000],\n",
       "        [0.1609, 0.7855, 0.5160,  ..., 0.0000, 0.2664, 0.3822]],\n",
       "       grad_fn=<SelectBackward>)"
      ]
     },
     "execution_count": 30,
     "metadata": {},
     "output_type": "execute_result"
    }
   ],
   "source": [
    "out_re[0]"
   ]
  },
  {
   "cell_type": "code",
   "execution_count": 21,
   "metadata": {},
   "outputs": [
    {
     "data": {
      "text/plain": [
       "3200"
      ]
     },
     "execution_count": 21,
     "metadata": {},
     "output_type": "execute_result"
    }
   ],
   "source": [
    "result = output.view(output.size(0),-1)\n",
    "result.size()[1]"
   ]
  },
  {
   "cell_type": "markdown",
   "metadata": {},
   "source": [
    "## 一些辅助函数，比如说用于可视化损失的函数等"
   ]
  },
  {
   "cell_type": "code",
   "execution_count": null,
   "metadata": {},
   "outputs": [],
   "source": [
    "# 开始训练\n",
    "\n",
    "# “tearcher_forcing_ratio将上一时刻的真实目标输出当作下一个时刻的Encoder网络的输入，而不是使用Encoder网络的上一时刻的预测输出作为下一时刻的输入。\n",
    "tearcher_forcing_ratio = 0.5  \n",
    "\n",
    "def train(input_tensor, target_tensor, encoder, decoder, encoder_optimizer, decoder_optimizer, criterion, max_length=MAX_LENGTH):\n",
    "    encoder_hidden = encoder.initHidden()\n",
    "    \n",
    "    encoder_optimizer.zero_grad()\n",
    "    decoder_optimizer.zero_grad()\n",
    "    \n",
    "    input_length = input_tensor.size(0)\n",
    "    target_length = target_tensor.size(0)\n",
    "    \n",
    "    encoder_outputs = torch.zeros(max_length, encoder.hidden_size, device=device)\n",
    "    \n",
    "    loss = 0\n",
    "    \n",
    "    # encoder部分\n",
    "    for ei in range(input_length):\n",
    "        encoder_output, encoder_hidden = encoder(input_tensor[ei], encoder_hidden)\n",
    "        encoder_outputs[ei] = encoder_output[0, 0]\n",
    "    \n",
    "    # decoder部分\n",
    "    decoder_input = torch.tensor([[SOS_token]], device=device)\n",
    "    \n",
    "    decoder_hidden = encoder_hidden\n",
    "    \n",
    "    use_teacher_foring = True if random.random() < tearcher_forcing_ratio else False\n",
    "    \n",
    "    # using teacher forcing\n",
    "    if use_teacher_foring:\n",
    "        for di in range(target_length):\n",
    "            decoder_output, decoder_hidden, decoder_attention = decoder(decoder_input, decoder_hidden, encoder_outputs)\n",
    "            loss += criterion(decoder_output, target_tensor[di])\n",
    "            decoder_input = target_tensor[di]  \n",
    "            \n",
    "    # 不使用teacher forcing,使用上一时刻的输出作为下一时刻的输入        \n",
    "    else:\n",
    "        for di in range(target_length):\n",
    "            decoder_output, decoder_hidden, decoder_attention = decoder(decoder_input, decoder_hidden, encoder_outputs)\n",
    "            topv, topi = decoder_output.topk(1)\n",
    "            decoder_input = topi.squeeze().detach()  \n",
    "            \n",
    "            loss += criterion(decoder_output, target_tensor[di])\n",
    "            \n",
    "            if decoder_input.item() == EOS_token:\n",
    "                break\n",
    "    loss.backward()\n",
    "    \n",
    "    encoder_optimizer.step()\n",
    "    decoder_optimizer.step()\n",
    "    \n",
    "    return loss.item() / target_length\n",
    "\n",
    "\n",
    "# 辅助函数------记录时间\n",
    "\n",
    "import time\n",
    "import math\n",
    "\n",
    "def asMinutes(s):\n",
    "    m = math.floor(s / 60)\n",
    "    s -= m * 60\n",
    "    return \"%dm %ds\" % (m, s)\n",
    "\n",
    "def timeSince(since, percent):\n",
    "    now = time.time()\n",
    "    s = now - since\n",
    "    es = s / (percent)\n",
    "    rs = es - s\n",
    "    return \"%s (- %s)\" % (asMinutes(s), asMinutes(rs))\n",
    "\n",
    "\n",
    "# 整个训练过程如下：\n",
    " # 开启定时器\n",
    " # 初始化优化器和loss函数\n",
    " # 创建training pairs\n",
    " # 开始训练并绘图\n",
    "\n",
    "def trainIters(encoder, decoder, n_iters, print_every=1000, plot_every=100, learning_rate=0.01):\n",
    "    start = time.time()  # 开启定时器\n",
    "    plot_losses = []\n",
    "    print_loss_total = 0  # Reset every print_every\n",
    "    plot_loss_total = 0  # Reset every plot_every\n",
    "\n",
    "    encoder_optimizer = optim.SGD(encoder.parameters(), lr=learning_rate)  # 定义优化算法\n",
    "    decoder_optimizer = optim.SGD(decoder.parameters(), lr=learning_rate)\n",
    "    training_pairs = [tensorsFromPair(random.choice(pairs))  # 创建training pairs\n",
    "                      for i in range(n_iters)]\n",
    "    criterion = nn.NLLLoss()  # 定义损失函数\n",
    "\n",
    "    for iter in range(1, n_iters + 1):\n",
    "        training_pair = training_pairs[iter - 1]\n",
    "        input_tensor = training_pair[0]\n",
    "        target_tensor = training_pair[1]\n",
    "\n",
    "        loss = train(input_tensor, target_tensor, encoder,\n",
    "                     decoder, encoder_optimizer, decoder_optimizer, criterion)\n",
    "        print_loss_total += loss\n",
    "        plot_loss_total += loss\n",
    "\n",
    "        if iter % print_every == 0:\n",
    "            print_loss_avg = print_loss_total / print_every\n",
    "            print_loss_total = 0\n",
    "            print('%s (%d %d%%) %.4f' % (timeSince(start, iter / n_iters),\n",
    "                                         iter, iter / n_iters * 100, print_loss_avg))\n",
    "\n",
    "        if iter % plot_every == 0:\n",
    "            plot_loss_avg = plot_loss_total / plot_every\n",
    "            plot_losses.append(plot_loss_avg)\n",
    "            plot_loss_total = 0\n",
    "\n",
    "    showPlot(plot_losses)\n",
    "\n",
    "\n",
    "# 绘制loss曲线\n",
    "\n",
    "import matplotlib.pyplot as plt\n",
    "plt.switch_backend('agg')\n",
    "import matplotlib.ticker as ticker\n",
    "import numpy as np\n",
    "\n",
    "%matplotlib inline\n",
    "\n",
    "def showPlot(points):\n",
    "    plt.figure()\n",
    "    fig, ax = plt.subplots()\n",
    "    # this locator puts ticks at regular intervals\n",
    "    loc = ticker.MultipleLocator(base=0.2)\n",
    "    ax.yaxis.set_major_locator(loc)\n",
    "    plt.plot(points)\n",
    "\n",
    "\n",
    "# 测试阶段--------测试阶段整体与训练阶段类似，但是测试阶段，不用给出target_tensor,只是将decoder网络上一时刻的预测值作为下一时刻的输入值\n",
    "# 当预测值是EOS时，则停止预测\n",
    "\n",
    "def evaluate(encoder, decoder, sentence, max_length = MAX_LENGTH):\n",
    "     with torch.no_grad():\n",
    "        input_tensor = tensorFromSentence(input_lang, sentence)\n",
    "        input_length = input_tensor.size()[0]\n",
    "        encoder_hidden = encoder.initHidden()\n",
    "\n",
    "        encoder_outputs = torch.zeros(max_length, encoder.hidden_size, device=device)\n",
    "\n",
    "        # encoder部分\n",
    "        for ei in range(input_length):\n",
    "            encoder_output, encoder_hidden = encoder(input_tensor[ei],\n",
    "                                                     encoder_hidden)\n",
    "            encoder_outputs[ei] += encoder_output[0, 0]\n",
    "\n",
    "        decoder_input = torch.tensor([[SOS_token]], device=device)  # SOS\n",
    "\n",
    "        decoder_hidden = encoder_hidden\n",
    "\n",
    "        decoded_words = []\n",
    "        decoder_attentions = torch.zeros(max_length, max_length)\n",
    "        \n",
    "        # decoder部分\n",
    "        for di in range(max_length):\n",
    "            decoder_output, decoder_hidden, decoder_attention = decoder(\n",
    "                decoder_input, decoder_hidden, encoder_outputs)\n",
    "            decoder_attentions[di] = decoder_attention.data\n",
    "            topv, topi = decoder_output.data.topk(1)\n",
    "            if topi.item() == EOS_token:  # 结束时的条件\n",
    "                decoded_words.append('<EOS>')\n",
    "                break\n",
    "            else:\n",
    "                decoded_words.append(output_lang.index2word[topi.item()])\n",
    "\n",
    "            decoder_input = topi.squeeze().detach()\n",
    "\n",
    "        return decoded_words, decoder_attentions[:di + 1]\n",
    "\n",
    "# 随机地从训练集中选择pairs,然后在测试集上进行评估\n",
    "\n",
    "def evaluateRandomly(encoder, decoder, n=10):\n",
    "    for i in range(n):\n",
    "        pair = random.choice(pairs)\n",
    "        print('输入:>', pair[0])\n",
    "        print('目标:=', pair[1])\n",
    "        output_words, attentions = evaluate(encoder, decoder, pair[0])\n",
    "        output_sentence = ' '.join(output_words)\n",
    "        print('预测:<', output_sentence)\n",
    "        print('')\n",
    "\n",
    "# 正式训练开始运行\n",
    "\n",
    "hidden_size = 256\n",
    "encoder1 = EncoderRNN(input_lang.n_words, hidden_size).to(device)\n",
    "attn_decoder1 = AttnDecoderRNN(hidden_size, output_lang.n_words, dropout_p=0.1).to(device)\n",
    "\n",
    "trainIters(encoder1, attn_decoder1, 75000, print_every=5000)\n",
    "\n",
    "evaluateRandomly(encoder1, attn_decoder1)\n",
    "\n",
    "# 注意力可视化\n",
    "\n",
    "output_words, attentions = evaluate(\n",
    "    encoder1, attn_decoder1, \"je suis trop froid .\")\n",
    "plt.matshow(attentions.numpy());\n",
    "\n",
    "# 增加坐标轴，更加清楚的可视化\n",
    "\n",
    "def showAttention(input_sentence, output_words, attentions):\n",
    "    # Set up figure with colorbar\n",
    "    fig = plt.figure()\n",
    "    ax = fig.add_subplot(111)\n",
    "    cax = ax.matshow(attentions.numpy(), cmap='bone')\n",
    "    fig.colorbar(cax)\n",
    "\n",
    "    # Set up axes\n",
    "    ax.set_xticklabels([''] + input_sentence.split(' ') +\n",
    "                       ['<EOS>'], rotation=90)\n",
    "    ax.set_yticklabels([''] + output_words)\n",
    "\n",
    "    # Show label at every tick\n",
    "    ax.xaxis.set_major_locator(ticker.MultipleLocator(1))\n",
    "    ax.yaxis.set_major_locator(ticker.MultipleLocator(1))\n",
    "\n",
    "    plt.show()\n",
    "\n",
    "\n",
    "def evaluateAndShowAttention(input_sentence):\n",
    "    output_words, attentions = evaluate(\n",
    "        encoder1, attn_decoder1, input_sentence)\n",
    "    print('input =', input_sentence)\n",
    "    print('output =', ' '.join(output_words))\n",
    "    showAttention(input_sentence, output_words, attentions)"
   ]
  },
  {
   "cell_type": "markdown",
   "metadata": {},
   "source": [
    "# CNN预测\n",
    "我们采用两层CNN"
   ]
  },
  {
   "cell_type": "code",
   "execution_count": 2,
   "metadata": {},
   "outputs": [],
   "source": [
    "class cnn(nn.Module):\n",
    "    def __init__(self,in_channel,out_channel,kernel_size):\n",
    "        \"\"\"\n",
    "        初始化参数：\n",
    "        in_channel:输入信号通道数\n",
    "        out_channel:输出信号通道数\n",
    "        kernel_size:卷积核的尺寸\n",
    "        \"\"\"\n",
    "        super(cnn,self).__init__()\n",
    "        self.layer1 = nn.Sequential(\n",
    "            nn.Conv1d(in_channel, out_channel, kernel_size), \n",
    "            nn.BatchNorm1d(out_channel),\n",
    "            nn.ReLU(True),\n",
    "        )\n",
    "        self.layer2 = nn.Sequential(\n",
    "            nn.Conv1d(out_channel, out_channel * 2, kernel_size), \n",
    "            nn.BatchNorm1d(out_channel * 2),\n",
    "            nn.ReLU(True),\n",
    "            nn.MaxPool1d(kernel_size),\n",
    "        )\n",
    "        \n",
    "    def forward(self,x):\n",
    "        \"\"\"\n",
    "        输入数据x维度：(batch_size x len x in_channel)\n",
    "        \"\"\"\n",
    "        x = x.permute(0,2,1) # (batch_size x in_channel x len)\n",
    "        x = self.layer1(x) # batch_size x out_channel x (len - kernel_size)\n",
    "        x = self.layer2(x) # batch_size x out_channel*2 x len 2\n",
    "        x = x.view(x.size(0),-1) #(batch_size,out_channel*2 x len 2)\n",
    "        feature_size = x.size()[1]\n",
    "        \n",
    "        # MLP\n",
    "        fc = nn.Sequential(\n",
    "            nn.Linear(feature_size,1024),\n",
    "            nn.ReLU (inplace=True),\n",
    "            nn.Linear(1024,128),\n",
    "            nn.ReLU (inplace=True),\n",
    "            nn.Linear(128,2),\n",
    "        )\n",
    "        y = fc(x) #(batch_size,1)\n",
    "        return y"
   ]
  },
  {
   "cell_type": "markdown",
   "metadata": {},
   "source": [
    "# LSTM的网络结构\n",
    "![avatar](3.png)"
   ]
  },
  {
   "cell_type": "markdown",
   "metadata": {},
   "source": [
    "pytorch中LSTM的用法：\n",
    "\n",
    "调用的函数为nn.LSTM(input_size,hidden_size,layer_nums,bias,batch_first,dropout,bidirectional)\n",
    "\n",
    "参数介绍：\n",
    "\n",
    "1. input_size： 输入数据X的特征值的数目。\n",
    "2. hidden_size： 隐藏层的神经元数量， 也就是隐藏层的特征数量。\n",
    "3. num_layers： 循环神经网络的层数， 默认值是 2\n",
    "4. bias： 默认为 True， 如果为 false 则表示神经元不使用 bias 偏移参数。\n",
    "5. batch_first： 如果设置为 True， 则输入数据的维度中第一个维度就是 batch 值， 默认为 False。 默认情况下第一个维度是序列的长度，第二个维度才是 batch， 第三个维度是特征数目。\n",
    "6. dropout： 如果不为空， 则表示最后跟一个 dropout 层抛弃部分数据， 抛弃数据的比例由该参数指定\n",
    "7. bidirectional ： 布尔型， 设置为 True 那么 LSTM 就是一个双向的RNN 网络（双向是指同时可以往后影响参数） ， 默认是 False\n",
    "\n",
    "举例来说明一下："
   ]
  },
  {
   "cell_type": "code",
   "execution_count": 2,
   "metadata": {},
   "outputs": [],
   "source": [
    "from torch.autograd import Variable\n",
    "rnn = nn.LSTM(10, 20, 2)\n",
    "Input = Variable(torch.randn(5, 3, 10))#Input的维度：(seq_len, batch, input_size)\n",
    "h0 = Variable(torch.randn(2, 3, 20)) #初始化h0 维度：(layer_nums, batch, output_size)\n",
    "c0 = Variable(torch.randn(2, 3, 20))#初始化c0 维度：(layer_nums, batch, output_size)\n",
    "output, hn = rnn(Input, (h0, c0))"
   ]
  },
  {
   "cell_type": "code",
   "execution_count": 4,
   "metadata": {},
   "outputs": [
    {
     "data": {
      "text/plain": [
       "torch.Size([5, 3, 20])"
      ]
     },
     "execution_count": 4,
     "metadata": {},
     "output_type": "execute_result"
    }
   ],
   "source": [
    "output.size()  # 维度：(seq_len, batch, output_size)"
   ]
  },
  {
   "cell_type": "code",
   "execution_count": 3,
   "metadata": {},
   "outputs": [
    {
     "data": {
      "text/plain": [
       "tensor([[ 0.1570,  0.0959,  0.2414,  0.2430, -0.3435, -0.1865,  0.2422,  0.0560,\n",
       "          0.2928,  0.2439,  0.5165,  0.0623, -0.1953,  0.3017, -0.0910,  0.2352,\n",
       "         -0.3289,  0.0386,  0.2155,  0.1502],\n",
       "        [ 0.0058,  0.4965,  0.2025,  0.0409, -0.0615,  0.0253, -0.2841, -0.3032,\n",
       "         -0.2337, -0.3089, -0.0261,  0.1096, -0.0379,  0.1132, -0.3785, -0.2796,\n",
       "         -0.1697,  0.1210,  0.1051, -0.0469],\n",
       "        [-0.0547, -0.4129,  0.6197,  0.3115, -0.2762, -0.2373,  0.0167, -0.3734,\n",
       "         -0.1518,  0.0341, -0.0078, -0.1033, -0.3177, -0.2452,  0.3524, -0.2154,\n",
       "          0.2136, -0.0500,  0.1895,  0.1901]], grad_fn=<SelectBackward>)"
      ]
     },
     "execution_count": 3,
     "metadata": {},
     "output_type": "execute_result"
    }
   ],
   "source": [
    "output[0]"
   ]
  },
  {
   "cell_type": "code",
   "execution_count": 11,
   "metadata": {},
   "outputs": [
    {
     "data": {
      "text/plain": [
       "tensor([[ 0.1066,  0.0041,  0.1111,  0.1036, -0.2901, -0.0749,  0.1506,  0.0692,\n",
       "         -0.0334,  0.2276,  0.2394,  0.1446,  0.0251, -0.0696, -0.0262, -0.0104,\n",
       "         -0.0652,  0.0286,  0.2289, -0.0211],\n",
       "        [ 0.0614,  0.0733,  0.0152,  0.0311, -0.0711, -0.0009, -0.1400, -0.0729,\n",
       "         -0.1489,  0.0454,  0.0489,  0.1252,  0.0521, -0.0520, -0.1389, -0.2169,\n",
       "         -0.0551, -0.0149,  0.1160, -0.0560],\n",
       "        [ 0.0300, -0.1165,  0.1703,  0.1384, -0.1117, -0.1159, -0.0034, -0.1029,\n",
       "         -0.1349,  0.1650,  0.0608,  0.0533, -0.0505, -0.0630,  0.1866, -0.0631,\n",
       "          0.0345, -0.1173,  0.1396,  0.0234]], grad_fn=<SelectBackward>)"
      ]
     },
     "execution_count": 11,
     "metadata": {},
     "output_type": "execute_result"
    }
   ],
   "source": [
    "output[2]"
   ]
  },
  {
   "cell_type": "code",
   "execution_count": 5,
   "metadata": {},
   "outputs": [
    {
     "data": {
      "text/plain": [
       "tensor([[ 1.5698e-01,  9.5949e-02,  2.4141e-01,  2.4304e-01, -3.4348e-01,\n",
       "         -1.8650e-01,  2.4222e-01,  5.6042e-02,  2.9282e-01,  2.4386e-01,\n",
       "          5.1655e-01,  6.2313e-02, -1.9530e-01,  3.0175e-01, -9.1013e-02,\n",
       "          2.3515e-01, -3.2894e-01,  3.8633e-02,  2.1549e-01,  1.5024e-01],\n",
       "        [ 9.9016e-02,  6.0166e-02,  1.7484e-01,  1.6330e-01, -3.4359e-01,\n",
       "         -1.0986e-01,  2.1830e-01,  7.9328e-02,  1.2120e-01,  2.1359e-01,\n",
       "          3.1021e-01,  1.2297e-01, -3.8226e-02,  4.8337e-02, -7.8538e-02,\n",
       "          5.3963e-02, -1.6336e-01,  6.7736e-02,  2.3542e-01,  1.7723e-02],\n",
       "        [ 1.0655e-01,  4.1368e-03,  1.1108e-01,  1.0363e-01, -2.9008e-01,\n",
       "         -7.4919e-02,  1.5063e-01,  6.9218e-02, -3.3385e-02,  2.2758e-01,\n",
       "          2.3938e-01,  1.4464e-01,  2.5068e-02, -6.9611e-02, -2.6183e-02,\n",
       "         -1.0438e-02, -6.5240e-02,  2.8590e-02,  2.2889e-01, -2.1124e-02],\n",
       "        [ 1.1184e-01, -4.4089e-02,  4.3908e-02,  6.7496e-02, -2.1142e-01,\n",
       "         -4.4925e-02,  9.5251e-02,  6.6789e-02, -9.9761e-02,  2.4333e-01,\n",
       "          1.6874e-01,  1.5880e-01,  4.7494e-02, -9.3480e-02, -1.1067e-02,\n",
       "         -5.2275e-02, -1.2767e-02, -7.4507e-03,  2.2382e-01, -2.8954e-02],\n",
       "        [ 1.1629e-01, -7.2821e-02,  1.2969e-02,  6.1227e-02, -1.9056e-01,\n",
       "         -2.7603e-02,  5.0500e-02,  6.2194e-02, -1.1650e-01,  2.2710e-01,\n",
       "          1.3603e-01,  1.5824e-01,  6.1765e-02, -8.7629e-02, -4.3001e-03,\n",
       "         -5.2329e-02, -1.5765e-04, -2.5209e-02,  2.1595e-01, -2.2425e-02]],\n",
       "       grad_fn=<SelectBackward>)"
      ]
     },
     "execution_count": 5,
     "metadata": {},
     "output_type": "execute_result"
    }
   ],
   "source": [
    "out = output.permute(1,0,2)\n",
    "out[0]"
   ]
  },
  {
   "cell_type": "code",
   "execution_count": 13,
   "metadata": {},
   "outputs": [
    {
     "data": {
      "text/plain": [
       "torch.Size([3, 5, 20])"
      ]
     },
     "execution_count": 13,
     "metadata": {},
     "output_type": "execute_result"
    }
   ],
   "source": [
    "out.size()"
   ]
  },
  {
   "cell_type": "code",
   "execution_count": 15,
   "metadata": {},
   "outputs": [
    {
     "data": {
      "text/plain": [
       "tensor([ 1.5698e-01,  9.5949e-02,  2.4141e-01,  2.4304e-01, -3.4348e-01,\n",
       "        -1.8650e-01,  2.4222e-01,  5.6042e-02,  2.9282e-01,  2.4386e-01,\n",
       "         5.1655e-01,  6.2313e-02, -1.9530e-01,  3.0175e-01, -9.1013e-02,\n",
       "         2.3515e-01, -3.2894e-01,  3.8633e-02,  2.1549e-01,  1.5024e-01,\n",
       "         9.9016e-02,  6.0166e-02,  1.7484e-01,  1.6330e-01, -3.4359e-01,\n",
       "        -1.0986e-01,  2.1830e-01,  7.9328e-02,  1.2120e-01,  2.1359e-01,\n",
       "         3.1021e-01,  1.2297e-01, -3.8226e-02,  4.8337e-02, -7.8538e-02,\n",
       "         5.3963e-02, -1.6336e-01,  6.7736e-02,  2.3542e-01,  1.7723e-02,\n",
       "         1.0655e-01,  4.1368e-03,  1.1108e-01,  1.0363e-01, -2.9008e-01,\n",
       "        -7.4919e-02,  1.5063e-01,  6.9218e-02, -3.3385e-02,  2.2758e-01,\n",
       "         2.3938e-01,  1.4464e-01,  2.5068e-02, -6.9611e-02, -2.6183e-02,\n",
       "        -1.0438e-02, -6.5240e-02,  2.8590e-02,  2.2889e-01, -2.1124e-02,\n",
       "         1.1184e-01, -4.4089e-02,  4.3908e-02,  6.7496e-02, -2.1142e-01,\n",
       "        -4.4925e-02,  9.5251e-02,  6.6789e-02, -9.9761e-02,  2.4333e-01,\n",
       "         1.6874e-01,  1.5880e-01,  4.7494e-02, -9.3480e-02, -1.1067e-02,\n",
       "        -5.2275e-02, -1.2767e-02, -7.4507e-03,  2.2382e-01, -2.8954e-02,\n",
       "         1.1629e-01, -7.2821e-02,  1.2969e-02,  6.1227e-02, -1.9056e-01,\n",
       "        -2.7603e-02,  5.0500e-02,  6.2194e-02, -1.1650e-01,  2.2710e-01,\n",
       "         1.3603e-01,  1.5824e-01,  6.1765e-02, -8.7629e-02, -4.3001e-03,\n",
       "        -5.2329e-02, -1.5765e-04, -2.5209e-02,  2.1595e-01, -2.2425e-02],\n",
       "       grad_fn=<SelectBackward>)"
      ]
     },
     "execution_count": 15,
     "metadata": {},
     "output_type": "execute_result"
    }
   ],
   "source": [
    "o = out.reshape(3,5*20)\n",
    "o[0]"
   ]
  },
  {
   "cell_type": "code",
   "execution_count": 11,
   "metadata": {},
   "outputs": [
    {
     "data": {
      "text/plain": [
       "2"
      ]
     },
     "execution_count": 11,
     "metadata": {},
     "output_type": "execute_result"
    }
   ],
   "source": [
    "len(hn) # 包含两个值，一个为h，一个是c"
   ]
  },
  {
   "cell_type": "code",
   "execution_count": 12,
   "metadata": {},
   "outputs": [
    {
     "data": {
      "text/plain": [
       "torch.Size([2, 3, 20])"
      ]
     },
     "execution_count": 12,
     "metadata": {},
     "output_type": "execute_result"
    }
   ],
   "source": [
    "hn[0].size() # 维度：(layer_nums, batch, output_size)是最后的输出状态"
   ]
  },
  {
   "cell_type": "code",
   "execution_count": 13,
   "metadata": {},
   "outputs": [
    {
     "data": {
      "text/plain": [
       "torch.Size([2, 3, 20])"
      ]
     },
     "execution_count": 13,
     "metadata": {},
     "output_type": "execute_result"
    }
   ],
   "source": [
    "hn[1].size() # 维度：(layer_nums, batch, output_size)是最后的输出状态"
   ]
  },
  {
   "cell_type": "markdown",
   "metadata": {},
   "source": [
    "# LSTM各门控单元原理\n",
    "\n",
    "![avatar](4.png)\n",
    "\n",
    "输入门：\\begin{equation}\n",
    "f_{t}=\\sigma\\left(W_{h f} h_{t-1}+W_{x f} x_{t}+b_{f}\\right)\n",
    "\\end{equation}\n",
    "\n",
    "![avatar](5.png)\n",
    "\n",
    "遗忘门：\n",
    "\\begin{equation}\n",
    "i_{t}=\\sigma\\left(W_{h i} h_{t-1}+W_{x i} x_{t}+b_{i}\\right)\n",
    "\\end{equation}\n",
    "\n",
    "更新cell状态：\n",
    "\\begin{equation}\n",
    "\\widetilde{C}_{t}=\\tanh \\left(W_{h c} h_{t-1}+W_{x c} x_{t}+b_{c}\\right)\n",
    "\\end{equation}\n",
    "\n",
    "![avatar](6.png)\n",
    "\n",
    "最终cell状态：\n",
    "\\begin{equation}\n",
    "C_{t}=f_{t} \\times C_{t-1}+i_{t} \\times \\widetilde{C}_{t}\n",
    "\\end{equation}\n",
    "\n",
    "![avatar](7.png)\n",
    "\n",
    "输出门：\n",
    "\\begin{equation}\n",
    "o_{t}=\\sigma\\left(W_{h o} h_{t-1}+W_{x 0} x_{t}+b_{o}\\right)\n",
    "\\end{equation}\n",
    "\n",
    "隐藏层：\n",
    "\\begin{equation}\n",
    "h_{t}=o_{t} \\times \\tanh \\left(C_{t}\\right)\n",
    "\\end{equation}"
   ]
  },
  {
   "cell_type": "markdown",
   "metadata": {},
   "source": [
    "由上面，可知h,b和C均为output_size的向量，与h相对应的W是(output_size,output_size)的矩阵，而与x相对应的W是(output_size,input_size)的矩阵。"
   ]
  },
  {
   "cell_type": "code",
   "execution_count": 46,
   "metadata": {},
   "outputs": [
    {
     "data": {
      "text/plain": [
       "list"
      ]
     },
     "execution_count": 46,
     "metadata": {},
     "output_type": "execute_result"
    }
   ],
   "source": [
    "type(rnn.all_weights)"
   ]
  },
  {
   "cell_type": "code",
   "execution_count": 26,
   "metadata": {},
   "outputs": [],
   "source": [
    "gru = nn.GRU(10,20,6)\n",
    "Input = Variable(torch.randn(5, 4, 10))#Input的维度：(seq_len, batch, input_size)\n",
    "h0 = Variable(torch.randn(6, 4, 20)) #初始化h0 维度：(layer_nums, batch, output_size)\n",
    "out,h = gru(Input, h0)"
   ]
  },
  {
   "cell_type": "code",
   "execution_count": 27,
   "metadata": {},
   "outputs": [
    {
     "data": {
      "text/plain": [
       "torch.Size([5, 4, 20])"
      ]
     },
     "execution_count": 27,
     "metadata": {},
     "output_type": "execute_result"
    }
   ],
   "source": [
    "out.size() # 维度：(seq_len, batch, output_size)"
   ]
  },
  {
   "cell_type": "code",
   "execution_count": 28,
   "metadata": {},
   "outputs": [
    {
     "data": {
      "text/plain": [
       "torch.Size([6, 4, 20])"
      ]
     },
     "execution_count": 28,
     "metadata": {},
     "output_type": "execute_result"
    }
   ],
   "source": [
    "h.size() # 维度：(layer_nums, batch, output_size)"
   ]
  },
  {
   "cell_type": "code",
   "execution_count": 3,
   "metadata": {},
   "outputs": [],
   "source": [
    "class lstm(nn.Module):\n",
    "    def __init__(self,input_size,hidden_size,lstm_layers,output_size=2,dropout=0.1):\n",
    "        super(lstm, self).__init__()\n",
    "        self.input_size = input_size #输入层的特征值的数目\n",
    "        self.hidden_size = hidden_size #隐藏层的神经元数量\n",
    "        self.lstm_layers = lstm_layers #LSTM层数\n",
    "        self.dropout = dropout #dropout率\n",
    "        self.output_size = output_size\n",
    "        self.layer = nn.LSTM(input_size,hidden_size,lstm_layers,dropout=dropout)\n",
    "    def forward(self, x):\n",
    "        \"\"\"\n",
    "        输入数据x的维度：(batch,seq,input_size)\n",
    "        \"\"\"\n",
    "        x = x.permute(1,0,2) #(seq,batch,input_size)\n",
    "        x,_ = self.layer(x) #seq,batch,hidden\n",
    "        s,b,h = x.size()\n",
    "        x = x.permute(1,0,2) #batch,seq,hidden\n",
    "        x = x.reshape(b,s*h) #batch,seq*hidden\n",
    "        \n",
    "        # MLP\n",
    "        fc = nn.Sequential(\n",
    "            nn.Linear(s*h,1024),\n",
    "            nn.ReLU (inplace=True),\n",
    "            nn.Linear(1024,128),\n",
    "            nn.ReLU (inplace=True),\n",
    "            nn.Linear(128,self.output_size),\n",
    "        )\n",
    "        y = fc(x)\n",
    "        return y"
   ]
  },
  {
   "cell_type": "markdown",
   "metadata": {},
   "source": [
    "# LSTM-CNN并联结构"
   ]
  },
  {
   "cell_type": "code",
   "execution_count": 4,
   "metadata": {},
   "outputs": [],
   "source": [
    "class lstm_cnn_parallel(nn.Module):\n",
    "    def __init__(self,in_channel, out_channel,hidden_size,kernel_size,lstm_layers=2,dropout=0.1):\n",
    "        \"\"\"\n",
    "        初始化args:\n",
    "        in_channel:cnn输入信号通道数，也是lstm的input_size\n",
    "        out_channel:cnn输出信号通道数\n",
    "        hidden_size:lstm输出\n",
    "        kernel_size:cnn卷积核的尺寸\n",
    "        lstm_layer:lstm层数\n",
    "        dropout\n",
    "        \"\"\"\n",
    "        super(lstm_cnn_parallel, self).__init__()\n",
    "        self.in_channel = in_channel #输入层的特征值的数目\n",
    "        self.out_channel = out_channel #隐藏层的神经元数量\n",
    "        self.hidden_size = hidden_size\n",
    "        self.lstm_layers = lstm_layers #LSTM层\n",
    "        self.lstm = nn.LSTM(in_channel,hidden_size,lstm_layers,dropout=dropout)\n",
    "        self.cnn = nn.Sequential(\n",
    "            nn.Conv1d(in_channel, out_channel, kernel_size), \n",
    "            nn.BatchNorm1d(out_channel),\n",
    "            nn.ReLU(True),\n",
    "            nn.Conv1d(out_channel, out_channel * 2, kernel_size), \n",
    "            nn.BatchNorm1d(out_channel * 2),\n",
    "            nn.ReLU(True),\n",
    "            nn.MaxPool1d(kernel_size),\n",
    "        )\n",
    "    def forward(self, x):\n",
    "        \"\"\"\n",
    "        前向传播，x为输入张量，形状为(batch,seq,input_size)\n",
    "        \"\"\"\n",
    "        y1,_ = self.lstm(x.permute(1,0,2)) #y1:(seq,batch,hidden)\n",
    "        y2 = self.cnn(x.permute(0,2,1)) # y2:(batch_size x out_channel*2 x len 2)\n",
    "        \n",
    "        #将y1和y2转化成(batch,*)的张量\n",
    "        y2 = y2.view(y2.size(0),-1) #(batch_size,out_channel*2 x len 2)\n",
    "        s,b,h = y1.size()\n",
    "        y1 = y1.permute(1,0,2) # (batch,seq,hidden)\n",
    "        y1 = y1.reshape(b,s*h) # (batch,seq*hidden)\n",
    "        \n",
    "        #将y1和y2拼接起来\n",
    "        y =  torch.cat((y1,y2),1) # (batch,out_channel*2 x len 2+seq*hidden)\n",
    "        feature_size = y.size()[1]\n",
    "        \n",
    "        #MLP\n",
    "        fc = nn.Sequential(\n",
    "            nn.Linear(feature_size,1024),\n",
    "            nn.ReLU (inplace=True),\n",
    "            nn.Linear(1024,128),\n",
    "            nn.ReLU (inplace=True),\n",
    "            nn.Linear(128,2),\n",
    "        )\n",
    "        y = fc(y) #(batch_size,2)\n",
    "        return y"
   ]
  },
  {
   "cell_type": "markdown",
   "metadata": {},
   "source": [
    "# LSTM-CNN串联结构"
   ]
  },
  {
   "cell_type": "code",
   "execution_count": 5,
   "metadata": {},
   "outputs": [],
   "source": [
    "class lstm_cnn_series(nn.Module):\n",
    "    def __init__(self,in_channel, out_channel, kernel_size,lstm_layers,output_size=2,dropout=0.1):\n",
    "        \"\"\"\n",
    "        初始化args:\n",
    "        in_channel:cnn输入信号通道数\n",
    "        out_channel:cnn输出信号通道数\n",
    "        kernel_size:cnn卷积核的尺寸\n",
    "        lstm_layer:lstm层数\n",
    "        \"\"\"\n",
    "        super(lstm_cnn_series, self).__init__()\n",
    "        self.in_channel = in_channel #CNN输入层的特征值的数目\n",
    "        self.out_channel = out_channel #CNN输出层的神经元数量\n",
    "        self.kernel_size = kernel_size #卷积核\n",
    "        self.lstm_layers = lstm_layers #LSTM层\n",
    "        self.output_size = output_size #最后输出特征\n",
    "        self.dropout = dropout #最后输出特征\n",
    "        \n",
    "        self.cnn_layer1 = nn.Sequential(\n",
    "            nn.Conv1d(in_channel, out_channel, kernel_size), \n",
    "            nn.BatchNorm1d(out_channel),\n",
    "            nn.ReLU(True),\n",
    "        )\n",
    "        self.cnn_layer2 = nn.Sequential(\n",
    "            nn.Conv1d(out_channel, out_channel*2, kernel_size), \n",
    "            nn.BatchNorm1d(out_channel*2),\n",
    "            nn.ReLU(True),\n",
    "            nn.MaxPool1d(kernel_size),\n",
    "        )\n",
    "        self.lstm = nn.LSTM(out_channel*2,out_channel*2,lstm_layers,dropout=dropout)\n",
    "        \n",
    "        \n",
    "    def forward(self, x):\n",
    "        \"\"\"\n",
    "        输入数据x维度:(batch_size x len x in_channels)\n",
    "        \"\"\"\n",
    "        # cnn层\n",
    "        x = self.cnn_layer1(x.permute(0,2,1)) # batch_size x out_channels x len 1\n",
    "        x = self.cnn_layer2(x) # batch_size x out_channels*2 x len 2\n",
    "        x = x.permute(2,0,1)   # len 2 x batch_size x out_channels*2\n",
    "        \n",
    "        # lstm层\n",
    "        x,_ = self.lstm(x) # len 2 x batch_size x out_channels*2\n",
    "        s,b,h = x.size()\n",
    "        x = x.permute(1,0,2) #batch,seq,hidden\n",
    "        x = x.reshape(b,s*h) #batch,seq*hidden\n",
    "        \n",
    "        #MLP\n",
    "        fc = nn.Sequential(\n",
    "            nn.Linear(s*h,1024),\n",
    "            nn.ReLU (inplace=True),\n",
    "            nn.Linear(1024,128),\n",
    "            nn.ReLU (inplace=True),\n",
    "            nn.Linear(128,self.output_size),\n",
    "        )\n",
    "        y = fc(x) #(batch_size,1)\n",
    "        return y"
   ]
  },
  {
   "cell_type": "markdown",
   "metadata": {},
   "source": [
    "# 导入数据"
   ]
  },
  {
   "cell_type": "code",
   "execution_count": 1,
   "metadata": {},
   "outputs": [
    {
     "data": {
      "text/html": [
       "<div>\n",
       "<style scoped>\n",
       "    .dataframe tbody tr th:only-of-type {\n",
       "        vertical-align: middle;\n",
       "    }\n",
       "\n",
       "    .dataframe tbody tr th {\n",
       "        vertical-align: top;\n",
       "    }\n",
       "\n",
       "    .dataframe thead th {\n",
       "        text-align: right;\n",
       "    }\n",
       "</style>\n",
       "<table border=\"1\" class=\"dataframe\">\n",
       "  <thead>\n",
       "    <tr style=\"text-align: right;\">\n",
       "      <th></th>\n",
       "      <th>Close</th>\n",
       "      <th>High</th>\n",
       "      <th>Low</th>\n",
       "      <th>Volume</th>\n",
       "    </tr>\n",
       "    <tr>\n",
       "      <th>Date</th>\n",
       "      <th></th>\n",
       "      <th></th>\n",
       "      <th></th>\n",
       "      <th></th>\n",
       "    </tr>\n",
       "  </thead>\n",
       "  <tbody>\n",
       "    <tr>\n",
       "      <th>2015/10/8 13:00</th>\n",
       "      <td>245.00</td>\n",
       "      <td>245.00</td>\n",
       "      <td>0.00</td>\n",
       "      <td>0.606654</td>\n",
       "    </tr>\n",
       "    <tr>\n",
       "      <th>2015/10/8 14:00</th>\n",
       "      <td>245.00</td>\n",
       "      <td>245.00</td>\n",
       "      <td>244.50</td>\n",
       "      <td>4.453649</td>\n",
       "    </tr>\n",
       "    <tr>\n",
       "      <th>2015/10/8 15:00</th>\n",
       "      <td>244.92</td>\n",
       "      <td>245.00</td>\n",
       "      <td>244.92</td>\n",
       "      <td>3.016926</td>\n",
       "    </tr>\n",
       "    <tr>\n",
       "      <th>2015/10/8 16:00</th>\n",
       "      <td>244.25</td>\n",
       "      <td>244.92</td>\n",
       "      <td>244.25</td>\n",
       "      <td>3.895252</td>\n",
       "    </tr>\n",
       "    <tr>\n",
       "      <th>2015/10/8 17:00</th>\n",
       "      <td>244.99</td>\n",
       "      <td>244.99</td>\n",
       "      <td>244.02</td>\n",
       "      <td>3.920632</td>\n",
       "    </tr>\n",
       "  </tbody>\n",
       "</table>\n",
       "</div>"
      ],
      "text/plain": [
       "                  Close    High     Low    Volume\n",
       "Date                                             \n",
       "2015/10/8 13:00  245.00  245.00    0.00  0.606654\n",
       "2015/10/8 14:00  245.00  245.00  244.50  4.453649\n",
       "2015/10/8 15:00  244.92  245.00  244.92  3.016926\n",
       "2015/10/8 16:00  244.25  244.92  244.25  3.895252\n",
       "2015/10/8 17:00  244.99  244.99  244.02  3.920632"
      ]
     },
     "execution_count": 1,
     "metadata": {},
     "output_type": "execute_result"
    }
   ],
   "source": [
    "import pandas as pd\n",
    "import numpy as np\n",
    "data = pd.read_csv('gemini_BTCUSD_1hr.csv',index_col=[0],usecols=['Date','High','Low','Close','Volume'])\n",
    "data.head()"
   ]
  },
  {
   "cell_type": "code",
   "execution_count": 5,
   "metadata": {},
   "outputs": [
    {
     "data": {
      "text/plain": [
       "Close     9177.880000\n",
       "High      9211.240000\n",
       "Low       8925.000000\n",
       "Volume     791.276838\n",
       "Name: 2018/4/24 0:00, dtype: float64"
      ]
     },
     "execution_count": 5,
     "metadata": {},
     "output_type": "execute_result"
    }
   ],
   "source": [
    "data.iloc[22283]\n",
    "data = data.iloc[22283:]"
   ]
  },
  {
   "cell_type": "markdown",
   "metadata": {},
   "source": [
    "# 小波分解去噪重构\n",
    "小波变换是通过一系列小波函数来对原始信息重新表示。我们假设基小波函数为$\\psi$,满足\n",
    "\n",
    "处理工具：pywt库\n",
    "## 小波分解\n",
    "小波分解使用函数pywt.wavedec\n",
    "\n",
    "该函数需要的参数一般有三个：data，wavelet，level。data为处理的数据，wavelet指的是小波族，一共有后面几种，[‘haar’, ‘db’, ‘sym’, ‘coif’, ‘bior’, ‘rbio’, ‘dmey’]。level指的是分解的阶数，设置为n就返回一个n维的list[cAn, cDn, cDn-1, …, cD2, cD1]，n为分解阶次，cAn是逼近系数数组，后面的依次是细节系数数组。\n",
    "\n",
    "## 重构\n",
    "重构使用函数pywt.waverec\n",
    "\n",
    "该函数需要的参数一般有两个：coeffs和wavelet。其中，coeffs为小波分解并处理后的list。wavelet和函数pywt.wavedec保持一致即可\n",
    "\n",
    "## 小波去噪\n",
    "小波去噪使用函数pywt.threshold\n",
    "\n",
    "该函数需要的参数一般有：数据data，阈值value，模式mode，和替换值substitute\n",
    "\n",
    "value是用来和data里的数据做比较的。\n",
    "\n",
    "mode有四种，{‘soft’, ‘hard’, ‘garrote’, ‘greater’, 'less}指的是不同的替换方式。\n",
    "\n",
    "substitute是用来做替换的值"
   ]
  },
  {
   "cell_type": "code",
   "execution_count": null,
   "metadata": {},
   "outputs": [],
   "source": [
    "w = pywt.Wavelet('db8') # 选用Daubechies8小波\n",
    "data_denoise = pd.DataFrame(columns=['Close','High','Low','Volume'])\n",
    "threshold = 0.5 # Threshold for filtering\n",
    "for i in range(4):\n",
    "    d = data.iloc[:,i]\n",
    "    maxlev = pywt.\n",
    "# Decompose into wavelet components, to the level selected:\n",
    "    coeffs = pywt.wavedec(da, w, level=maxlev) # 将信号进行小波分解\n",
    "    for i in range(1, len(coeffs)):\n",
    "        coeffs[i] = pywt.threshold(coeffs[i], threshold*max(coeffs[i])) # 将噪声滤波\n",
    "    datarec = pywt.waverec(coeffs, w)\n",
    "    data_denoise.iloc[:,i] = datarec"
   ]
  },
  {
   "cell_type": "markdown",
   "metadata": {},
   "source": [
    "# 数据预处理"
   ]
  },
  {
   "cell_type": "code",
   "execution_count": 9,
   "metadata": {},
   "outputs": [],
   "source": [
    "#增加移动平均特征\n",
    "def add_moving_mean(data,feature,window=5):\n",
    "    \"\"\"\n",
    "    该函数可以增加移动平均特征，需要的初始化参数为：\n",
    "    data：数据源，为DataFrame类型\n",
    "    feature：特征，表示对该特征做移动平均\n",
    "    window：移动窗口数\n",
    "    返回的是一个Series，为feature的移动平均值\n",
    "    \"\"\"\n",
    "    return data[feature].rolling(window=window).mean()\n",
    "\n",
    "#DIF值：DIF=EMA(Close,Short)-EMA(Close,Long),EMA为指数平均\n",
    "def dif(data,short=12,long=26):\n",
    "    return data['Close'].ewm(span=12).mean()-data['Close'].ewm(span=26).mean()\n",
    "\n",
    "#DEA:DEA=EMA(DIF,Mid)\n",
    "def dea(data,mid=9):\n",
    "    return data['dif'].ewm(span=9).mean()\n",
    "\n",
    "#MACD:MACD=(DIF-DEA)X2\n",
    "def macd(data):\n",
    "    return (data['dif']-data['dea'])*2\n",
    "\n",
    "#BOLL=MA(Close,M),UB=BOLL+2*STD(Close,M),LB=BOLL-2*STD(Close,M)\n",
    "def ub_lb(data,M=20):\n",
    "    boll = data['Close'].rolling(window=M).mean()\n",
    "    std = data['Close'].rolling(window=M).std()\n",
    "    ub = boll + 2 * std\n",
    "    lb = boll - 2 * std\n",
    "    return ub,lb\n",
    "\n",
    "# RSV=(Close-Low_n)/(High_n-Low_n)*100,K=SMA(RSV,m1),D=SMA(RSV,m2),J=3*K-2*D\n",
    "def kdj(data,n=9,m1=3,m2=3):\n",
    "    # 提取收盘价、最高价、最低价数据\n",
    "    close = data.Close\n",
    "    low = data.Low\n",
    "    high = data.High\n",
    "    # 获取日期数据\n",
    "    date = close.index.to_series()\n",
    "    len_date = len(date)\n",
    "    # 定义初始变量最高价，取值均为0\n",
    "    periodHigh = pd.Series(np.zeros(len_date-n),index=date.index[n:])\n",
    "    # 定义初始变量最低价，取值均为0\n",
    "    periodLow = pd.Series(np.zeros(len_date-n),index=date.index[n:])\n",
    "    # 定义初始化变量RSV，取值均为0\n",
    "    rsv = pd.Series(np.zeros(len_date-n),index=date.index[n:])\n",
    "    periodHigh.name = 'periodHigh'\n",
    "    periodLow.name = 'periodLow'\n",
    "    rsv.name = 'rsv'\n",
    "    # 计算RSV值\n",
    "    for i in range(n,len_date):\n",
    "        period = date[i-n:i+1]\n",
    "        j = date[i]\n",
    "        periodHigh[j] = high[period].max()\n",
    "        periodLow[j] = low[period].min()\n",
    "        rsv[j] = 100*(close[j]-periodLow[j])/(periodHigh[j]-periodLow[j])\n",
    "    \n",
    "    K = rsv.rolling(window=m1).mean()\n",
    "    D = rsv.rolling(window=m1).mean()\n",
    "    J = 3 * K - 2 * D\n",
    "    return K,D,J"
   ]
  },
  {
   "cell_type": "code",
   "execution_count": 10,
   "metadata": {},
   "outputs": [
    {
     "name": "stderr",
     "output_type": "stream",
     "text": [
      "D:\\ProgramData\\Anaconda3\\envs\\pytorch\\lib\\site-packages\\ipykernel_launcher.py:56: RuntimeWarning: invalid value encountered in double_scalars\n"
     ]
    }
   ],
   "source": [
    "data['MA5'] = add_moving_mean(data,'Close',window=5)\n",
    "data['MA10'] = add_moving_mean(data,'Close',window=10)\n",
    "data['MA15'] = add_moving_mean(data,'Close',window=15)\n",
    "data['MA20'] = add_moving_mean(data,'Close',window=20)\n",
    "data['dif'] = dif(data)\n",
    "data['dea'] = dea(data)\n",
    "data['macd'] = macd(data)\n",
    "ub,lb = ub_lb(data,M=20)\n",
    "data['ub'] = ub\n",
    "data['lb'] = lb\n",
    "k,d,j = kdj(data,n=9,m1=3,m2=3)\n",
    "data['k'] = k\n",
    "data['d'] = d\n",
    "data['j'] = j"
   ]
  },
  {
   "cell_type": "code",
   "execution_count": null,
   "metadata": {},
   "outputs": [],
   "source": [
    "# 正则化处理\n",
    "from sklearn.preprocessing import StandardScaler\n",
    "standard = StandardScaler()"
   ]
  },
  {
   "cell_type": "code",
   "execution_count": 6,
   "metadata": {},
   "outputs": [
    {
     "data": {
      "text/html": [
       "<div>\n",
       "<style scoped>\n",
       "    .dataframe tbody tr th:only-of-type {\n",
       "        vertical-align: middle;\n",
       "    }\n",
       "\n",
       "    .dataframe tbody tr th {\n",
       "        vertical-align: top;\n",
       "    }\n",
       "\n",
       "    .dataframe thead th {\n",
       "        text-align: right;\n",
       "    }\n",
       "</style>\n",
       "<table border=\"1\" class=\"dataframe\">\n",
       "  <thead>\n",
       "    <tr style=\"text-align: right;\">\n",
       "      <th></th>\n",
       "      <th>A</th>\n",
       "      <th>B</th>\n",
       "      <th>C</th>\n",
       "      <th>D</th>\n",
       "    </tr>\n",
       "  </thead>\n",
       "  <tbody>\n",
       "    <tr>\n",
       "      <th>0</th>\n",
       "      <td>-0.319649</td>\n",
       "      <td>0.388690</td>\n",
       "      <td>0.222820</td>\n",
       "      <td>-0.413744</td>\n",
       "    </tr>\n",
       "    <tr>\n",
       "      <th>1</th>\n",
       "      <td>0.724718</td>\n",
       "      <td>-0.792272</td>\n",
       "      <td>0.335833</td>\n",
       "      <td>1.025247</td>\n",
       "    </tr>\n",
       "    <tr>\n",
       "      <th>2</th>\n",
       "      <td>-1.388760</td>\n",
       "      <td>-0.063614</td>\n",
       "      <td>-0.338877</td>\n",
       "      <td>-0.442636</td>\n",
       "    </tr>\n",
       "    <tr>\n",
       "      <th>3</th>\n",
       "      <td>-0.006959</td>\n",
       "      <td>0.356006</td>\n",
       "      <td>-1.766397</td>\n",
       "      <td>0.319323</td>\n",
       "    </tr>\n",
       "  </tbody>\n",
       "</table>\n",
       "</div>"
      ],
      "text/plain": [
       "          A         B         C         D\n",
       "0 -0.319649  0.388690  0.222820 -0.413744\n",
       "1  0.724718 -0.792272  0.335833  1.025247\n",
       "2 -1.388760 -0.063614 -0.338877 -0.442636\n",
       "3 -0.006959  0.356006 -1.766397  0.319323"
      ]
     },
     "execution_count": 6,
     "metadata": {},
     "output_type": "execute_result"
    }
   ],
   "source": [
    "data"
   ]
  },
  {
   "cell_type": "code",
   "execution_count": null,
   "metadata": {},
   "outputs": [],
   "source": [
    "import pywt\n",
    "#小波分解\n",
    "def wavelet(data,level):\n",
    "    return pywt.wavedec(data,'Harr',level=level)"
   ]
  },
  {
   "cell_type": "markdown",
   "metadata": {},
   "source": [
    "# 时间序列数据变成有监督的数据\n",
    "\n",
    "我们创建一个函数，给定输入、输出序列的长度，它可以自动地将时间序列数据转型为适用于监督学习的数据"
   ]
  },
  {
   "cell_type": "code",
   "execution_count": 4,
   "metadata": {},
   "outputs": [],
   "source": [
    "def time_series_2_supervised(data, seq_len=1, t=1):\n",
    "    '''\n",
    "    创建函数的作用就是将时间序列数据转化成适用于分类学习的数据，最后的分类学习的数据是这样的：\n",
    "    我们以seq_len长的数据作为输入(数据维度是(seq_len,data_features_size))，来预测t之后的上升下跌\n",
    "    初始化参数包括：\n",
    "    data: 观测序列。为 2维 Numpy Array \n",
    "    seq_len: 序列长度\n",
    "    t: 代表我们要预测多长时间之后的涨跌\n",
    "    函数返回：\n",
    "    supervised_data:三维数组(*,seq_len,data_feature_size)\n",
    "    label:监督学习所对应的标签\n",
    "    '''\n",
    "    lenth,sizes = data.shape\n",
    "    data_num = lenth - t - seq_len + 1\n",
    "    supervised_data = np.zeros((data_num,seq_len,sizes))\n",
    "    labels = np.zeros(data_num,dtype=int)\n",
    "    if seq_len != 1:\n",
    "        for i in range(data_num):\n",
    "            supervised_data[i] = data[i:i+seq_len,:]\n",
    "            if data[i+seq_len-1,0]<data[i+seq_len-1+t,0]:\n",
    "                labels[i] = 1\n",
    "    else:\n",
    "        for i in range(data_num):\n",
    "            supervised_data[i] = np.expand_dims(data[i,:],0)\n",
    "            if data[i,0]<data[i+t,0]:\n",
    "                labels[i] = 1\n",
    "    return supervised_data,labels"
   ]
  },
  {
   "cell_type": "markdown",
   "metadata": {},
   "source": [
    "对于上面的函数，我们举个例子验证一下："
   ]
  },
  {
   "cell_type": "code",
   "execution_count": 5,
   "metadata": {},
   "outputs": [],
   "source": [
    "v = data.values\n",
    "supervised_data,labels = time_series_2_supervised(v, seq_len=20, t=4)"
   ]
  },
  {
   "cell_type": "code",
   "execution_count": 1,
   "metadata": {},
   "outputs": [],
   "source": [
    "import torch.utils.data as Data\n",
    "from sklearn.model_selection import train_test_split\n",
    "\n",
    "# 数据集划分成三份\n",
    "x_data,x_valid,y_data,y_valid = train_test_split(supervised_data,labels,test_size)\n",
    "x_train,x_test,y_train,y_valid = train_test_split(x_data,y_data,test_size)\n",
    "\n",
    "# 通过torch.from_numpy转换成Tensor张量\n",
    "x_train = torch.from_numpy(x_train)\n",
    "x_test = torch.from_numpy(x_test)\n",
    "x_valid = torch.from_numpy(x_valid)\n",
    "y_train = torch.from_numpy(y_train)\n",
    "y_test = torch.from_numpy(y_test)\n",
    "y_valid = torch.from_numpy(y_valid)\n",
    "\n",
    "#生成tensor数据集\n",
    "train_dataset = Data.TensorDataset(x_train,y_train)\n",
    "test_dataset = Data.TensorDataset(x_test,y_test)\n",
    "valid_dataset = Data.TensorDataset(x_valid,y_valid)\n",
    "\n",
    "#生成loader\n",
    "test_loader = Data.DataLoader(\n",
    "    dataset=test_dataset,\n",
    "    batch_size=32,\n",
    "    shuffle=True,\n",
    "    num_workers=2,\n",
    ")"
   ]
  },
  {
   "cell_type": "markdown",
   "metadata": {},
   "source": [
    "# 使用t-sne来可视化数据"
   ]
  },
  {
   "cell_type": "markdown",
   "metadata": {},
   "source": [
    "# 将有监督学习数据转换成用于t-sne的数据\n",
    "有监督学习数据的维数：(data_num,seq_len,feature_size),其中data_num:数据数目，seq_len:序列长度,feature_size:数据特征大小\n",
    "t-sne数据维数：(data_num,seq_len$\\times$feature_size)"
   ]
  },
  {
   "cell_type": "code",
   "execution_count": 7,
   "metadata": {},
   "outputs": [],
   "source": [
    "def data_trans(data):\n",
    "    n,l,f = data.shape\n",
    "    return np.reshape(data,(n,l*f))"
   ]
  },
  {
   "cell_type": "code",
   "execution_count": 34,
   "metadata": {},
   "outputs": [
    {
     "name": "stderr",
     "output_type": "stream",
     "text": [
      "D:\\ProgramData\\Anaconda3\\lib\\site-packages\\openTSNE\\callbacks.py:55: FutureWarning: `ErrorLogger` will be removed in upcoming version. Please use the `verbose` flag instead.\n",
      "  category=FutureWarning,\n"
     ]
    },
    {
     "name": "stdout",
     "output_type": "stream",
     "text": [
      "Iteration   50, KL divergence  3.2825, 50 iterations in 2.6984 sec\n",
      "Iteration  100, KL divergence  3.0310, 50 iterations in 2.7694 sec\n",
      "Iteration  150, KL divergence  2.9841, 50 iterations in 2.7354 sec\n",
      "Iteration  200, KL divergence  2.9684, 50 iterations in 2.7304 sec\n",
      "Iteration  250, KL divergence  2.9619, 50 iterations in 2.6974 sec\n",
      "Iteration   50, KL divergence  1.8106, 50 iterations in 2.6455 sec\n"
     ]
    },
    {
     "data": {
      "image/png": "[encoded data removed]",
      "text/plain": [
       "<Figure size 432x288 with 1 Axes>"
      ]
     },
     "metadata": {
      "needs_background": "light"
     },
     "output_type": "display_data"
    }
   ],
   "source": [
    "# t-sne例子\n",
    "import pylab\n",
    "X = data_trans(supervised_data[:2500])\n",
    "from sklearn import datasets\n",
    "from openTSNE import TSNEEmbedding\n",
    "from openTSNE import TSNE\n",
    "from openTSNE.affinity import PerplexityBasedNN\n",
    "from openTSNE import initialization\n",
    "from openTSNE.callbacks import ErrorLogger\n",
    "\n",
    "import numpy as np\n",
    "import matplotlib.pyplot as plt\n",
    "iris = datasets.load_iris()\n",
    "\n",
    "tsne = TSNE(\n",
    "    perplexity=30,\n",
    "    n_iter=50,\n",
    "    metric=\"euclidean\",\n",
    "    callbacks=ErrorLogger(),\n",
    "    n_jobs=8,\n",
    "    random_state=42,\n",
    ")\n",
    "embedding = tsne.fit(X)\n",
    "Y = np.array(embedding)\n",
    "pylab.scatter(Y[:, 0], Y[:, 1], 20, labels[:2500])\n",
    "pylab.show()"
   ]
  },
  {
   "cell_type": "markdown",
   "metadata": {},
   "source": [
    "## CNN训练"
   ]
  },
  {
   "cell_type": "code",
   "execution_count": null,
   "metadata": {},
   "outputs": [],
   "source": [
    "import torch.optim as optim\n",
    "\n",
    "criterion = nn.CrossEntropyLoss()\n",
    "optimizer = optim.SGD(net.parameters(), lr=0.001, momentum=0.9)\n",
    "\n",
    "for epoch in range(2):  # loop over the dataset multiple times\n",
    "\n",
    "    running_loss = 0.0\n",
    "    for i, data in enumerate(trainloader, 0):\n",
    "        # get the inputs\n",
    "        inputs, labels = data\n",
    "\n",
    "        # zero the parameter gradients\n",
    "        optimizer.zero_grad()\n",
    "\n",
    "        # forward + backward + optimize\n",
    "        outputs = net(inputs)\n",
    "        loss = criterion(outputs, labels)\n",
    "        loss.backward()\n",
    "        optimizer.step()\n",
    "\n",
    "        # print statistics\n",
    "        running_loss += loss.item()\n",
    "        if i % 2000 == 1999:    # print every 2000 mini-batches\n",
    "            print('[%d, %5d] loss: %.3f' %\n",
    "                  (epoch + 1, i + 1, running_loss / 2000))\n",
    "            running_loss = 0.0\n",
    "\n",
    "print('Finished Training')"
   ]
  },
  {
   "cell_type": "markdown",
   "metadata": {},
   "source": [
    "## 贝叶斯优化神经网络超参数\n",
    "我们通过ax来实现贝叶斯优化，首先我们导入用到的函数"
   ]
  },
  {
   "cell_type": "code",
   "execution_count": null,
   "metadata": {},
   "outputs": [],
   "source": [
    "from ax.plot.contour import plot_contour\n",
    "from ax.plot.trace import optimization_trace_single_method\n",
    "from ax.service.managed_loop import optimize\n",
    "from ax.utils.notebook.plotting import render\n",
    "from ax.utils.tutorials.cnn_utils import train, evaluate"
   ]
  },
  {
   "cell_type": "markdown",
   "metadata": {},
   "source": [
    "下面我们构建一个训练网络的函数"
   ]
  },
  {
   "cell_type": "code",
   "execution_count": null,
   "metadata": {},
   "outputs": [],
   "source": [
    "def net_train(net, train_loader, parameters, dtype, device):\n",
    "    \n",
    "    net.to(dtype=dtype, device=device)\n",
    " \n",
    " \n",
    "    # Define loss and optimizer\n",
    "    criterion = nn.CrossEntropyLoss()\n",
    "    optimizer = optim.Adam(net.parameters(), # or any optimizer you prefer \n",
    "                        lr=parameters.get(\"lr\", 0.001), # 0.001 is used if no lr is specified\n",
    "  )\n",
    " \n",
    " \n",
    "    scheduler = optim.lr_scheduler.StepLR(\n",
    "      optimizer,\n",
    "      step_size=int(parameters.get(\"step_size\", 30)),\n",
    "      gamma=parameters.get(\"gamma\", 1.0),  # default is no learning rate decay\n",
    "  )\n",
    " \n",
    " \n",
    "    num_epochs = parameters.get(\"num_epochs\", 30) # Play around with epoch number\n",
    "    # Train Network\n",
    "    for _ in range(num_epochs):\n",
    "        for inputs, labels in train_loader:\n",
    "            # move data to proper dtype and device\n",
    "            inputs = inputs.to(dtype=dtype, device=device)\n",
    "            labels = labels.to(device=device,dtype=torch.long)\n",
    " \n",
    " \n",
    "            # zero the parameter gradients\n",
    "            optimizer.zero_grad()\n",
    " \n",
    "     \n",
    "            # forward + backward + optimize\n",
    "            outputs = net(inputs)\n",
    "            loss = criterion(outputs, labels)\n",
    "            loss.backward()\n",
    "            optimizer.step()\n",
    "            scheduler.step()\n",
    "    return net"
   ]
  },
  {
   "cell_type": "markdown",
   "metadata": {},
   "source": [
    "编写一个init_*()函数，该函数初始化模型并返回准备训练的网络"
   ]
  },
  {
   "cell_type": "code",
   "execution_count": null,
   "metadata": {},
   "outputs": [],
   "source": [
    "# 初始化网络模型\n",
    "in_channel = input_size = 10\n",
    "def init_cnn(parameterization):\n",
    "    model = cnn(in_channel=in_channel,out_channel=parameterization.get('out_channels',16),kernel_size=parameterization.get('kernel_size',3))\n",
    "    return model\n",
    "\n",
    "def init_lstm(parameterization):\n",
    "    model = lstm(input_size=input_size,hidden_size=parameterization.get('hidden_size',16),lstm_layers=2,output_size=1,dropout=parameterization.get('dropout',0.1))\n",
    "    return model\n",
    "\n",
    "def init_lcp(parameterization):\n",
    "    model = lstm_cnn_parallel(in_channel=in_channel,out_channel=parameterization.get('out_channels',16),hidden_size=parameterization.get('hidden_size',16),kernel_size=parameterization.get('kernel_size',2),lstm_layers=2,dropout=parameterization.get('dropout',0.1))\n",
    "    return model\n",
    "\n",
    "def init_lcs(parameterization):\n",
    "    model = lstm_cnn_series(in_channel=in_channel,out_channel=parameterization.get('out_channels',16),kernel_size=parameterization.get('kernel_size',3)lstm_layers=2,dropout=parameterization.get('dropout',0.1))\n",
    "    return model"
   ]
  },
  {
   "cell_type": "markdown",
   "metadata": {},
   "source": [
    "我们需要一个train_evaluate_*()函数，该函数在每次运行时都会被贝叶斯优化器调用。 优化器在parameterization化中生成一组新的超parameterization ，将其传递给此函数，然后分析返回的评估结果。"
   ]
  },
  {
   "cell_type": "code",
   "execution_count": null,
   "metadata": {},
   "outputs": [],
   "source": [
    "def train_evaluate_cnn(parameterization):\n",
    " \n",
    "    # constructing a new training data loader allows us to tune the batch size\n",
    "    train_loader = torch.utils.data.DataLoader(trainset,\n",
    "                                batch_size=parameterization.get(\"batchsize\", 32),\n",
    "                                shuffle=True,\n",
    "                                num_workers=0,\n",
    "                                pin_memory=True)\n",
    "    \n",
    "    # Get neural net\n",
    "    untrained_net = init_cnn(parameterization) \n",
    "    \n",
    "    # train\n",
    "    trained_net = net_train(net=untrained_net, train_loader=train_loader, \n",
    "                            parameters=parameterization, dtype=dtype, device=device)\n",
    "    \n",
    "    # return the accuracy of the model as it was trained in this run\n",
    "    return evaluate(\n",
    "        net=trained_net,\n",
    "        data_loader=testloader,\n",
    "        dtype=dtype,\n",
    "        device=device,\n",
    "    )"
   ]
  },
  {
   "cell_type": "code",
   "execution_count": null,
   "metadata": {},
   "outputs": [],
   "source": [
    "def train_evaluate_lstm(parameterization):\n",
    " \n",
    "    # constructing a new training data loader allows us to tune the batch size\n",
    "    train_loader = torch.utils.data.DataLoader(trainset,\n",
    "                                batch_size=parameterization.get(\"batchsize\", 32),\n",
    "                                shuffle=True,\n",
    "                                num_workers=0,\n",
    "                                pin_memory=True)\n",
    "    \n",
    "    # Get neural net\n",
    "    untrained_net = init_lstm(parameterization) \n",
    "    \n",
    "    # train\n",
    "    trained_net = net_train(net=untrained_net, train_loader=train_loader, \n",
    "                            parameters=parameterization, dtype=dtype, device=device)\n",
    "    \n",
    "    # return the accuracy of the model as it was trained in this run\n",
    "    return evaluate(\n",
    "        net=trained_net,\n",
    "        data_loader=testloader,\n",
    "        dtype=dtype,\n",
    "        device=device,\n",
    "    )"
   ]
  },
  {
   "cell_type": "code",
   "execution_count": null,
   "metadata": {},
   "outputs": [],
   "source": [
    "def train_evaluate_lcs(parameterization):\n",
    " \n",
    "    # constructing a new training data loader allows us to tune the batch size\n",
    "    train_loader = torch.utils.data.DataLoader(trainset,\n",
    "                                batch_size=parameterization.get(\"batchsize\", 32),\n",
    "                                shuffle=True,\n",
    "                                num_workers=0,\n",
    "                                pin_memory=True)\n",
    "    \n",
    "    # Get neural net\n",
    "    untrained_net = init_lcs(parameterization) \n",
    "    \n",
    "    # train\n",
    "    trained_net = net_train(net=untrained_net, train_loader=train_loader, \n",
    "                            parameters=parameterization, dtype=dtype, device=device)\n",
    "    \n",
    "    # return the accuracy of the model as it was trained in this run\n",
    "    return evaluate(\n",
    "        net=trained_net,\n",
    "        data_loader=testloader,\n",
    "        dtype=dtype,\n",
    "        device=device,\n",
    "    )"
   ]
  },
  {
   "cell_type": "code",
   "execution_count": null,
   "metadata": {},
   "outputs": [],
   "source": [
    "def train_evaluate_lcp(parameterization):\n",
    " \n",
    "    # constructing a new training data loader allows us to tune the batch size\n",
    "    train_loader = torch.utils.data.DataLoader(trainset,\n",
    "                                batch_size=parameterization.get(\"batchsize\", 32),\n",
    "                                shuffle=True,\n",
    "                                num_workers=0,\n",
    "                                pin_memory=True)\n",
    "    \n",
    "    # Get neural net\n",
    "    untrained_net = init_lcp(parameterization) \n",
    "    \n",
    "    # train\n",
    "    trained_net = net_train(net=untrained_net, train_loader=train_loader, \n",
    "                            parameters=parameterization, dtype=dtype, device=device)\n",
    "    \n",
    "    # return the accuracy of the model as it was trained in this run\n",
    "    return evaluate(\n",
    "        net=trained_net,\n",
    "        data_loader=testloader,\n",
    "        dtype=dtype,\n",
    "        device=device,\n",
    "    )"
   ]
  },
  {
   "cell_type": "markdown",
   "metadata": {},
   "source": [
    "### CNN优化\n",
    "只需指定要扫描的超参数并将其传递给Ax的optimize()函数即可"
   ]
  },
  {
   "cell_type": "code",
   "execution_count": null,
   "metadata": {},
   "outputs": [],
   "source": [
    "dtype = torch.float\n",
    "device = torch.device('cuda' if torch.cuda.is_available() else 'cpu')\n",
    "\n",
    "cnn_best_parameters, cnn_values, cnn_experiment, cnn_model = optimize(\n",
    "    parameters=[\n",
    "        {\"name\": \"lr\", \"type\": \"range\", \"bounds\": [1e-6, 0.4], \"log_scale\": True},\n",
    "        {\"name\": \"batchsize\", \"type\": \"range\", \"bounds\": [16, 128]},\n",
    "        {\"name\": \"num_epochs\", \"type\": \"range\", \"bounds\": [50, 200]},\n",
    "        {\"name\": \"step_size\", \"type\": \"range\", \"bounds\": [20, 40]},\n",
    "        {\"name\": \"out_channels\", \"type\": \"range\", \"bounds\": [16, 64]},\n",
    "        {\"name\": \"kernel_size\", \"type\": \"range\", \"bounds\": [2, 6]},\n",
    "        {\"name\": \"gamma\", \"type\": \"range\", \"bounds\": [0.9, 1]},\n",
    "    ],\n",
    "  \n",
    "    evaluation_function=train_evaluate_cnn,\n",
    "    objective_name='accuracy',\n",
    ")\n",
    " \n",
    "print(cnn_best_parameters)\n",
    "cnn_means, cnn_covariances = cnn_values\n",
    "print(cnn_means)\n",
    "print(cnn_covariances)"
   ]
  },
  {
   "cell_type": "markdown",
   "metadata": {},
   "source": [
    "### LSTM优化"
   ]
  },
  {
   "cell_type": "code",
   "execution_count": null,
   "metadata": {},
   "outputs": [],
   "source": [
    "lstm_best_parameters, lstm_values, lstm_experiment, lstm_model = optimize(\n",
    "    parameters=[\n",
    "        {\"name\": \"lr\", \"type\": \"range\", \"bounds\": [1e-6, 0.4], \"log_scale\": True},\n",
    "        {\"name\": \"batchsize\", \"type\": \"range\", \"bounds\": [16, 128]},\n",
    "        {\"name\": \"num_epochs\", \"type\": \"range\", \"bounds\": [50, 200]},\n",
    "        {\"name\": \"step_size\", \"type\": \"range\", \"bounds\": [20, 40]},\n",
    "        {\"name\": \"hidden_size\", \"type\": \"range\", \"bounds\": [16, 64]},\n",
    "        {\"name\": \"gamma\", \"type\": \"range\", \"bounds\": [0.9, 1]},\n",
    "        {\"name\": \"dropout\", \"type\": \"range\", \"bounds\": [0.1, 0.5]},\n",
    "    ],\n",
    "  \n",
    "    evaluation_function=train_evaluate_lstm,\n",
    "    objective_name='accuracy',\n",
    ")\n",
    " \n",
    "print(lstm_best_parameters)\n",
    "lstm_means, lstm_covariances = lstm_values\n",
    "print(lstm_means)\n",
    "print(lstm_covariances)"
   ]
  },
  {
   "cell_type": "markdown",
   "metadata": {},
   "source": [
    "### lcp优化"
   ]
  },
  {
   "cell_type": "code",
   "execution_count": null,
   "metadata": {},
   "outputs": [],
   "source": [
    "lcp_best_parameters, lcp_values, lcp_experiment, lcp_model = optimize(\n",
    "    parameters=[\n",
    "        {\"name\": \"lr\", \"type\": \"range\", \"bounds\": [1e-6, 0.4], \"log_scale\": True},\n",
    "        {\"name\": \"batchsize\", \"type\": \"range\", \"bounds\": [16, 128]},\n",
    "        {\"name\": \"num_epochs\", \"type\": \"range\", \"bounds\": [50, 200]},\n",
    "        {\"name\": \"step_size\", \"type\": \"range\", \"bounds\": [20, 40]},\n",
    "        {\"name\": \"out_channels\", \"type\": \"range\", \"bounds\": [16, 64]},\n",
    "        {\"name\": \"hidden_size\", \"type\": \"range\", \"bounds\": [16, 64]},\n",
    "        {\"name\": \"kernel_size\", \"type\": \"range\", \"bounds\": [2, 6]},\n",
    "        {\"name\": \"gamma\", \"type\": \"range\", \"bounds\": [0.9, 1]},\n",
    "        {\"name\": \"dropout\", \"type\": \"range\", \"bounds\": [0.1, 0.5]},\n",
    "    ],\n",
    "  \n",
    "    evaluation_function=train_evaluate_lcp,\n",
    "    objective_name='accuracy',\n",
    ")\n",
    "\n",
    "print(lcp_best_parameters)\n",
    "lcp_means, lcp_covariances = lcp_values\n",
    "print(lcp_means)\n",
    "print(lcp_covariances)"
   ]
  },
  {
   "cell_type": "markdown",
   "metadata": {},
   "source": [
    "### lcs优化"
   ]
  },
  {
   "cell_type": "code",
   "execution_count": null,
   "metadata": {},
   "outputs": [],
   "source": [
    "lcs_best_parameters, lcs_values, lcs_experiment, lcs_model = optimize(\n",
    "    parameters=[\n",
    "        {\"name\": \"lr\", \"type\": \"range\", \"bounds\": [1e-6, 0.4], \"log_scale\": True},\n",
    "        {\"name\": \"batchsize\", \"type\": \"range\", \"bounds\": [16, 128]},\n",
    "        {\"name\": \"num_epochs\", \"type\": \"range\", \"bounds\": [50, 200]},\n",
    "        {\"name\": \"step_size\", \"type\": \"range\", \"bounds\": [20, 40]},\n",
    "        {\"name\": \"out_channels\", \"type\": \"range\", \"bounds\": [16, 64]},\n",
    "        {\"name\": \"kernel_size\", \"type\": \"range\", \"bounds\": [2, 6]},\n",
    "        {\"name\": \"gamma\", \"type\": \"range\", \"bounds\": [0.9, 1]},\n",
    "        {\"name\": \"dropout\", \"type\": \"range\", \"bounds\": [0.1, 0.5]},\n",
    "    ],\n",
    "  \n",
    "    evaluation_function=train_evaluate_lcs,\n",
    "    objective_name='accuracy',\n",
    ")\n",
    "\n",
    "print(lcs_best_parameters)\n",
    "lcs_means, lcs_covariances = values\n",
    "print(lcs_means)\n",
    "print(lcs_covariances)"
   ]
  },
  {
   "cell_type": "markdown",
   "metadata": {},
   "source": [
    "绘制一些图，这些图显示每个时期的精度(随着参数化的改进而提高)，以及优化器根据等高线图得出的两个超参数的函数所估计的精度。"
   ]
  },
  {
   "cell_type": "code",
   "execution_count": null,
   "metadata": {},
   "outputs": [],
   "source": [
    "best_objectives = np.array([[trial.objective_mean*100 for trial in experiment.trials.values()]])\n",
    " \n",
    "best_objective_plot = optimization_trace_single_method(\n",
    "    y=np.maximum.accumulate(best_objectives, axis=1),\n",
    "    title=\"Model performance vs. # of iterations\",\n",
    "    ylabel=\"Classification Accuracy, %\",\n",
    ")\n",
    "render(best_objective_plot)\n",
    " \n",
    "render(plot_contour(model=model, param_x='batchsize', param_y='lr', metric_name='accuracy'))"
   ]
  },
  {
   "cell_type": "code",
   "execution_count": null,
   "metadata": {},
   "outputs": [],
   "source": [
    "#验证一下上面的方法\n",
    "X = torch.randn(1000,10,10)\n",
    "Y = torch.randint(high=2,size=(1000,))"
   ]
  },
  {
   "cell_type": "markdown",
   "metadata": {},
   "source": [
    "## 使用AUC来可视化预测结果"
   ]
  },
  {
   "cell_type": "code",
   "execution_count": null,
   "metadata": {},
   "outputs": [],
   "source": [
    "from sklearn.metrics import roc_curve\n",
    "\n",
    "def plot_roc(net):\n",
    "    predict_result = net.predict().reshape()\n",
    "    fpr,tpr,thresholds = roc_curve(test[:,3],predict_result,pos_label=1)\n",
    "    plt.plot(fpr,tpr,linewidth=2,label='ROC of LM')\n",
    "    plt.xlabel('False Positive Rate')\n",
    "    plt.ylabel('True Positive Rate')\n",
    "    plt.legend(loc=4)\n",
    "    plt.show()"
   ]
  },
  {
   "cell_type": "code",
   "execution_count": null,
   "metadata": {},
   "outputs": [],
   "source": []
  }
 ],
 "metadata": {
  "kernelspec": {
   "display_name": "Python 3",
   "language": "python",
   "name": "python3"
  },
  "language_info": {
   "codemirror_mode": {
    "name": "ipython",
    "version": 3
   },
   "file_extension": ".py",
   "mimetype": "text/x-python",
   "name": "python",
   "nbconvert_exporter": "python",
   "pygments_lexer": "ipython3",
   "version": "3.7.7"
  }
 },
 "nbformat": 4,
 "nbformat_minor": 4
}
